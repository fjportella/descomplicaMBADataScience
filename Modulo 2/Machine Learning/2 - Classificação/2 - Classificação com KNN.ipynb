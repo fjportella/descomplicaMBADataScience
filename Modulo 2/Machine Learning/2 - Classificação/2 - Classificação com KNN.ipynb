{
 "cells": [
  {
   "cell_type": "markdown",
   "id": "fde68e5d",
   "metadata": {},
   "source": [
    "### Vamos usar o KNN aqui no python!\n",
    "\n",
    "#### Utilizaremos o famoso Iris Dataset para aplicar esse modelo\n",
    "https://scikit-learn.org/stable/datasets/toy_dataset.html#iris-dataset\n",
    "\n",
    "![alt_text](https://s3.amazonaws.com/assets.datacamp.com/blog_assets/Machine+Learning+R/iris-machinelearning.png)\n",
    "\n",
    "<br>\n",
    "\n",
    "Baseado nas características da pétala, vamos tentar determinar qual o tipo de Íris ela é!"
   ]
  },
  {
   "cell_type": "code",
   "execution_count": null,
   "id": "1fab7d33",
   "metadata": {},
   "outputs": [],
   "source": [
    "# importando os dados\n",
    "\n",
    "from sklearn.datasets import load_iris"
   ]
  },
  {
   "cell_type": "code",
   "execution_count": null,
   "id": "c8b3a465",
   "metadata": {},
   "outputs": [],
   "source": [
    "# vamos separar os dados entre treino e teste, \n",
    "# entao vamos importar a função que faz isso\n",
    "\n",
    "from sklearn.model_selection import train_test_split"
   ]
  },
  {
   "cell_type": "code",
   "execution_count": null,
   "id": "bc1e3e12",
   "metadata": {},
   "outputs": [],
   "source": [
    "# importando o KNN\n",
    "\n",
    "from sklearn.neighbors import KNeighborsClassifier"
   ]
  },
  {
   "cell_type": "code",
   "execution_count": null,
   "id": "34ac5200",
   "metadata": {},
   "outputs": [],
   "source": []
  },
  {
   "cell_type": "code",
   "execution_count": null,
   "id": "8b2fb230",
   "metadata": {},
   "outputs": [],
   "source": []
  },
  {
   "cell_type": "code",
   "execution_count": null,
   "id": "d1d487ca",
   "metadata": {},
   "outputs": [],
   "source": [
    "df = load_iris(as_frame = True)['data']\n",
    "df['type'] = load_iris(as_frame = True)['target']\n",
    "\n",
    "df"
   ]
  },
  {
   "cell_type": "code",
   "execution_count": null,
   "id": "2a8fc07f",
   "metadata": {},
   "outputs": [],
   "source": []
  },
  {
   "cell_type": "code",
   "execution_count": null,
   "id": "778cb1e3",
   "metadata": {},
   "outputs": [],
   "source": [
    "df.groupby('type').describe()['sepal length (cm)']"
   ]
  },
  {
   "cell_type": "code",
   "execution_count": null,
   "id": "362bed14",
   "metadata": {},
   "outputs": [],
   "source": []
  },
  {
   "cell_type": "code",
   "execution_count": null,
   "id": "cb2d5e46",
   "metadata": {},
   "outputs": [],
   "source": [
    "df.groupby('type').describe()['petal width (cm)']"
   ]
  },
  {
   "cell_type": "code",
   "execution_count": null,
   "id": "f15d6fdf",
   "metadata": {},
   "outputs": [],
   "source": []
  },
  {
   "cell_type": "code",
   "execution_count": null,
   "id": "5aeeb586",
   "metadata": {},
   "outputs": [],
   "source": []
  },
  {
   "cell_type": "code",
   "execution_count": null,
   "id": "45d740ba",
   "metadata": {},
   "outputs": [],
   "source": []
  },
  {
   "cell_type": "code",
   "execution_count": null,
   "id": "395ec2d9",
   "metadata": {},
   "outputs": [],
   "source": []
  },
  {
   "cell_type": "code",
   "execution_count": null,
   "id": "1ee03466",
   "metadata": {},
   "outputs": [],
   "source": [
    "# característica da pétala \n",
    "X = load_iris(as_frame = True)['data']\n",
    "\n",
    "# tipo de íris\n",
    "y = load_iris(as_frame = True)['target']"
   ]
  },
  {
   "cell_type": "code",
   "execution_count": null,
   "id": "ff8d89b9",
   "metadata": {},
   "outputs": [],
   "source": []
  },
  {
   "cell_type": "code",
   "execution_count": null,
   "id": "35a289cd",
   "metadata": {},
   "outputs": [],
   "source": []
  },
  {
   "cell_type": "markdown",
   "id": "5e7a5be4",
   "metadata": {},
   "source": [
    "Vamos usar X de treino e y de treino para treinar o nosso modelo e X de teste e y de teste para testar se o nosso modelo ta acertando bem"
   ]
  },
  {
   "cell_type": "code",
   "execution_count": null,
   "id": "5a77551c",
   "metadata": {},
   "outputs": [],
   "source": [
    "X_train, X_test, y_train, y_test = train_test_split(X, y, test_size=0.8, random_state=0)"
   ]
  },
  {
   "cell_type": "code",
   "execution_count": null,
   "id": "6e8f1115",
   "metadata": {},
   "outputs": [],
   "source": []
  },
  {
   "cell_type": "code",
   "execution_count": null,
   "id": "e8624256",
   "metadata": {},
   "outputs": [],
   "source": [
    "# algoritmo sem dados nenhum, onde K = 3\n",
    "\n",
    "neigh = KNeighborsClassifier(n_neighbors=3)"
   ]
  },
  {
   "cell_type": "code",
   "execution_count": null,
   "id": "2111942a",
   "metadata": {},
   "outputs": [],
   "source": []
  },
  {
   "cell_type": "code",
   "execution_count": null,
   "id": "f2cbe8e3",
   "metadata": {},
   "outputs": [],
   "source": []
  },
  {
   "cell_type": "code",
   "execution_count": null,
   "id": "951e281a",
   "metadata": {},
   "outputs": [],
   "source": []
  },
  {
   "cell_type": "code",
   "execution_count": null,
   "id": "cd7663a9",
   "metadata": {},
   "outputs": [],
   "source": [
    "# treinando o algoritmo\n",
    "\n",
    "neigh.fit(X_train, y_train)"
   ]
  },
  {
   "cell_type": "code",
   "execution_count": null,
   "id": "b29fdc1e",
   "metadata": {},
   "outputs": [],
   "source": []
  },
  {
   "cell_type": "code",
   "execution_count": null,
   "id": "ac09d62c",
   "metadata": {},
   "outputs": [],
   "source": [
    "# usando nosso algoritmo já treinado para fazer previsões usando os dados de teste\n",
    "\n",
    "y_pred = neigh.predict(X_test)\n",
    "\n",
    "y_pred"
   ]
  },
  {
   "cell_type": "code",
   "execution_count": null,
   "id": "462eddfc",
   "metadata": {},
   "outputs": [],
   "source": []
  },
  {
   "cell_type": "code",
   "execution_count": null,
   "id": "56b6e325",
   "metadata": {},
   "outputs": [],
   "source": []
  },
  {
   "cell_type": "markdown",
   "id": "d8fc59e5",
   "metadata": {},
   "source": [
    "Vamos ver a quantidade de casos em que erramos"
   ]
  },
  {
   "cell_type": "code",
   "execution_count": null,
   "id": "1092b339",
   "metadata": {},
   "outputs": [],
   "source": [
    "print(\"Número de íris que previmos errado de um total de {0} observações de teste: {1}\"\\\n",
    "      .format(X_test.shape[0], (y_test != y_pred).sum()))"
   ]
  },
  {
   "cell_type": "code",
   "execution_count": null,
   "id": "3cca3eca",
   "metadata": {},
   "outputs": [],
   "source": []
  },
  {
   "cell_type": "code",
   "execution_count": null,
   "id": "e0ce6ce3",
   "metadata": {},
   "outputs": [],
   "source": [
    "109/120"
   ]
  },
  {
   "cell_type": "code",
   "execution_count": null,
   "id": "e6ce3211",
   "metadata": {},
   "outputs": [],
   "source": []
  },
  {
   "cell_type": "code",
   "execution_count": null,
   "id": "d83a4959",
   "metadata": {},
   "outputs": [],
   "source": []
  },
  {
   "cell_type": "markdown",
   "id": "c9e1692e",
   "metadata": {},
   "source": [
    "### Agora, vamos deixar os dados com a mesma média e mesma variância"
   ]
  },
  {
   "cell_type": "code",
   "execution_count": null,
   "id": "b68aa802",
   "metadata": {},
   "outputs": [],
   "source": [
    "from sklearn.preprocessing import StandardScaler\n",
    "\n",
    "\n",
    "scaler = StandardScaler()\n",
    "scaler.fit(X_train)\n",
    "\n",
    "X_train = scaler.transform(X_train)\n",
    "X_test = scaler.transform(X_test)"
   ]
  },
  {
   "cell_type": "code",
   "execution_count": null,
   "id": "21db620b",
   "metadata": {},
   "outputs": [],
   "source": []
  },
  {
   "cell_type": "code",
   "execution_count": null,
   "id": "442ba832",
   "metadata": {},
   "outputs": [],
   "source": [
    "X_train.describe()"
   ]
  },
  {
   "cell_type": "code",
   "execution_count": null,
   "id": "abaa06f8",
   "metadata": {},
   "outputs": [],
   "source": []
  },
  {
   "cell_type": "code",
   "execution_count": null,
   "id": "2f4d0928",
   "metadata": {},
   "outputs": [],
   "source": []
  },
  {
   "cell_type": "code",
   "execution_count": null,
   "id": "f95d2141",
   "metadata": {},
   "outputs": [],
   "source": []
  },
  {
   "cell_type": "code",
   "execution_count": null,
   "id": "634455f5",
   "metadata": {},
   "outputs": [],
   "source": []
  },
  {
   "cell_type": "code",
   "execution_count": null,
   "id": "a109798b",
   "metadata": {},
   "outputs": [],
   "source": [
    "# algoritmo sem dados nenhum, onde K = 3\n",
    "\n",
    "neigh = KNeighborsClassifier(n_neighbors=3)"
   ]
  },
  {
   "cell_type": "code",
   "execution_count": null,
   "id": "dbc1765d",
   "metadata": {},
   "outputs": [],
   "source": []
  },
  {
   "cell_type": "code",
   "execution_count": null,
   "id": "b5e95faa",
   "metadata": {},
   "outputs": [],
   "source": []
  },
  {
   "cell_type": "code",
   "execution_count": null,
   "id": "7ba4658b",
   "metadata": {},
   "outputs": [],
   "source": []
  },
  {
   "cell_type": "code",
   "execution_count": null,
   "id": "5096c8a0",
   "metadata": {},
   "outputs": [],
   "source": [
    "# treinando o algoritmo\n",
    "\n",
    "neigh.fit(X_train, y_train)"
   ]
  },
  {
   "cell_type": "code",
   "execution_count": null,
   "id": "c9764868",
   "metadata": {},
   "outputs": [],
   "source": []
  },
  {
   "cell_type": "code",
   "execution_count": null,
   "id": "6ecaba20",
   "metadata": {},
   "outputs": [],
   "source": [
    "# usando nosso algoritmo já treinado para fazer previsões usando os dados de teste\n",
    "\n",
    "y_pred = neigh.predict(X_test)\n",
    "\n",
    "y_pred"
   ]
  },
  {
   "cell_type": "code",
   "execution_count": null,
   "id": "d0f3782f",
   "metadata": {},
   "outputs": [],
   "source": []
  },
  {
   "cell_type": "code",
   "execution_count": null,
   "id": "5d76e466",
   "metadata": {},
   "outputs": [],
   "source": []
  },
  {
   "cell_type": "code",
   "execution_count": null,
   "id": "8e2a3b6d",
   "metadata": {},
   "outputs": [],
   "source": [
    "print(\"Número de íris que previmos errado de um total de {0} observações de teste: {1}\"\\\n",
    "      .format(X_test.shape[0], (y_test != y_pred).sum()))"
   ]
  },
  {
   "cell_type": "code",
   "execution_count": null,
   "id": "d1f6df25",
   "metadata": {},
   "outputs": [],
   "source": []
  },
  {
   "cell_type": "code",
   "execution_count": null,
   "id": "5bc83939",
   "metadata": {},
   "outputs": [],
   "source": [
    "113/120"
   ]
  },
  {
   "cell_type": "code",
   "execution_count": null,
   "id": "12dbb422",
   "metadata": {},
   "outputs": [],
   "source": []
  },
  {
   "cell_type": "code",
   "execution_count": null,
   "id": "ff18e06f",
   "metadata": {},
   "outputs": [],
   "source": []
  },
  {
   "cell_type": "markdown",
   "id": "5a159f1c",
   "metadata": {},
   "source": [
    "#### E qual seria o melhor valor de K?"
   ]
  },
  {
   "cell_type": "code",
   "execution_count": null,
   "id": "a6f62d0c",
   "metadata": {},
   "outputs": [],
   "source": [
    "percentual_acerto = []\n",
    "tamanho_teste = X_test.shape[0]\n",
    "\n",
    "\n",
    "for i in range(1, 15):\n",
    "    knn = KNeighborsClassifier(n_neighbors=i)\n",
    "    knn.fit(X_train, y_train)\n",
    "    pred_i = knn.predict(X_test)\n",
    "    \n",
    "    acerto_i = (y_test == pred_i).sum()/tamanho_teste\n",
    "    percentual_acerto.append(100 * acerto_i)"
   ]
  },
  {
   "cell_type": "code",
   "execution_count": null,
   "id": "b8158709",
   "metadata": {},
   "outputs": [],
   "source": []
  },
  {
   "cell_type": "code",
   "execution_count": null,
   "id": "cbf5f1fe",
   "metadata": {},
   "outputs": [],
   "source": []
  },
  {
   "cell_type": "code",
   "execution_count": null,
   "id": "e0224848",
   "metadata": {},
   "outputs": [],
   "source": [
    "import pandas"
   ]
  },
  {
   "cell_type": "code",
   "execution_count": null,
   "id": "3b580e9e",
   "metadata": {},
   "outputs": [],
   "source": [
    "df_acerto = pandas.DataFrame()\n",
    "df_acerto[\"K\"] = range(1, 15)\n",
    "df_acerto[\"percentual_acerto\"] = percentual_acerto"
   ]
  },
  {
   "cell_type": "code",
   "execution_count": null,
   "id": "86cc1a64",
   "metadata": {},
   "outputs": [],
   "source": [
    "df_acerto.head()"
   ]
  },
  {
   "cell_type": "code",
   "execution_count": null,
   "id": "e11d317d",
   "metadata": {},
   "outputs": [],
   "source": []
  },
  {
   "cell_type": "code",
   "execution_count": null,
   "id": "bc7ab537",
   "metadata": {},
   "outputs": [],
   "source": []
  },
  {
   "cell_type": "code",
   "execution_count": null,
   "id": "b318c405",
   "metadata": {},
   "outputs": [],
   "source": [
    "import plotly.express as px"
   ]
  },
  {
   "cell_type": "code",
   "execution_count": null,
   "id": "c5f4a74b",
   "metadata": {},
   "outputs": [],
   "source": [
    "fig = px.line(df_acerto, x=\"K\", y=\"percentual_acerto\",\n",
    "              title='Percentual de Acerto por K')\n",
    "fig.show(\"notebook\")"
   ]
  },
  {
   "cell_type": "code",
   "execution_count": null,
   "id": "94fbe113",
   "metadata": {},
   "outputs": [],
   "source": []
  }
 ],
 "metadata": {
  "kernelspec": {
   "display_name": "Python 3 (ipykernel)",
   "language": "python",
   "name": "python3"
  },
  "language_info": {
   "codemirror_mode": {
    "name": "ipython",
    "version": 3
   },
   "file_extension": ".py",
   "mimetype": "text/x-python",
   "name": "python",
   "nbconvert_exporter": "python",
   "pygments_lexer": "ipython3",
   "version": "3.8.9"
  }
 },
 "nbformat": 4,
 "nbformat_minor": 5
}
